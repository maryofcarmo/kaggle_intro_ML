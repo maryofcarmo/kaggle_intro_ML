{
 "cells": [
  {
   "attachments": {},
   "cell_type": "markdown",
   "metadata": {},
   "source": [
    "### Random Forest"
   ]
  },
  {
   "cell_type": "code",
   "execution_count": 2,
   "metadata": {},
   "outputs": [
    {
     "name": "stdout",
     "output_type": "stream",
     "text": [
      "Validação MAE quando eu n especifico o valor de max_leaf_nodes: 29,653\n",
      "Validação MAE para o melhor valor de max_leaf_nodes: 27,283\n"
     ]
    }
   ],
   "source": [
    "# Code you have previously used to load data\n",
    "#chamar a biblioteca pandas do python\n",
    "import pandas as pd\n",
    "#chamar a função para medir o erro médio absoluto\n",
    "from sklearn.metrics import mean_absolute_error\n",
    "#chamar a função para dividir os dados entre dados de treino e dados de teste\n",
    "from sklearn.model_selection import train_test_split\n",
    "# chamar a função para fazer a érvore de decisão \n",
    "from sklearn.tree import DecisionTreeRegressor\n",
    "\n",
    "#ler o arquivo e colocar ele na variável \"dado_das_casas\"\n",
    "dado_das_casas = pd.read_csv(\"train.csv\")\n",
    "# Create target object and call it y\n",
    "# cria o \"alvo\", o que o algoritmo tentará prever e coloca ele na variável \"y\"\n",
    "y = dado_das_casas.SalePrice\n",
    "# Create X\n",
    "# cria uma lista com todos os atributos \"features\" necessários para a previsão\n",
    "features = ['LotArea', 'YearBuilt', '1stFlrSF', '2ndFlrSF', 'FullBath', 'BedroomAbvGr', 'TotRmsAbvGrd']\n",
    "# cria a variável \"X\" com os \"features\" ou atributos necessários a previsão. Isso é um dataset\n",
    "X = dado_das_casas[features]\n",
    "\n",
    "# Split into validation and training data\n",
    "#separa os dados entre dados de treinamento e dados de teste\n",
    "#esqueci o que significa \"random_state\"\n",
    "train_X, val_X, train_y, val_y = train_test_split(X, y, random_state=1)\n",
    "\n",
    "# Specify Model\n",
    "#faz o modelo de arvore de decisão\n",
    "modelo_1 = DecisionTreeRegressor(random_state=1)\n",
    "# Fit Model\n",
    "#treina o modelo com os dados de treino\n",
    "modelo_1.fit(train_X, train_y)\n",
    "\n",
    "# Make validation predictions and calculate mean absolute error\n",
    "#faz a predição do modelo utilizando os dados para a validação \"val_X\"\n",
    "val_predictions_modelo_1 = modelo_1.predict(val_X)\n",
    "# calcula o erro absoluto medio (MAE) colocando duas coisas como argumento: o valor que o modelo previu (val_predictions_modelo_1)\n",
    "# e os dados de validação de preço (val_y)\n",
    "MAE_modelo_1 = mean_absolute_error(val_predictions_modelo_1, val_y)\n",
    "#imprime na tela o resultado do MAE\n",
    "print(\"Validação MAE quando eu n especifico o valor de max_leaf_nodes: {:,.0f}\".format(MAE_modelo_1))\n",
    "\n",
    "# Using best value for max_leaf_nodes\n",
    "#agora eu faço um modelo de arvore de decisao impondo uma quantidade de 100 de profundidade\n",
    "#que no caso é o que representa \"max_leaf_nodes=100\"\n",
    "modelo_1 = DecisionTreeRegressor(max_leaf_nodes=100, random_state=1)\n",
    "#coloco os dados de treino no primeiro modelo desse notebook, para treina-lo\n",
    "modelo_1.fit(train_X, train_y)\n",
    "#faço a predção do modelo com os dados dde atributos para a predição \"val_x\"\n",
    "val_predictions_modelo_1 = modelo_1.predict(val_X)\n",
    "#agora eu calculo o MAE com o valor y da predição e os valores do dataset \"val_y\" dos dados para validação\n",
    "MAE_modelo_1 = mean_absolute_error(val_predictions_modelo_1, val_y)\n",
    "#imprimo na tela o MAE para o melhor valor de \"max_leaf_notes\" que é 100, segundo o meu primeiro algoritmo de \n",
    "# machine learning (primeiroML_DecisionTree.ipybn)\n",
    "print(\"Validação MAE para o melhor valor de max_leaf_nodes: {:,.0f}\".format(MAE_modelo_1))"
   ]
  },
  {
   "attachments": {},
   "cell_type": "markdown",
   "metadata": {},
   "source": [
    "usando de fato o random forest"
   ]
  },
  {
   "cell_type": "code",
   "execution_count": 3,
   "metadata": {},
   "outputs": [
    {
     "name": "stdout",
     "output_type": "stream",
     "text": [
      "Validação MAE para o Modelo Random Forest: 21,857\n"
     ]
    }
   ],
   "source": [
    "from sklearn.ensemble import RandomForestRegressor\n",
    "\n",
    "# Define the model. Set random_state to 1\n",
    "rf_model = RandomForestRegressor(random_state=1)\n",
    "\n",
    "# fit your model\n",
    "rf_model.fit(train_X, train_y)\n",
    "\n",
    "# Calculate the mean absolute error of your Random Forest model on the validation data\n",
    "val_rf_predictions = rf_model.predict(val_X)\n",
    "rf_val_mae = mean_absolute_error(val_rf_predictions, val_y)\n",
    "\n",
    "print(\"Validação MAE para o Modelo Random Forest: {:,.0f}\".format(rf_val_mae))"
   ]
  }
 ],
 "metadata": {
  "kernelspec": {
   "display_name": "Python 3",
   "language": "python",
   "name": "python3"
  },
  "language_info": {
   "codemirror_mode": {
    "name": "ipython",
    "version": 3
   },
   "file_extension": ".py",
   "mimetype": "text/x-python",
   "name": "python",
   "nbconvert_exporter": "python",
   "pygments_lexer": "ipython3",
   "version": "3.11.3"
  },
  "orig_nbformat": 4
 },
 "nbformat": 4,
 "nbformat_minor": 2
}
